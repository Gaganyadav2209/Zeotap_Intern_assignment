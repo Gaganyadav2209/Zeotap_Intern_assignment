{
 "cells": [
  {
   "cell_type": "code",
   "execution_count": 29,
   "id": "dc22e633-cced-4704-8484-3cb5fca0cc0b",
   "metadata": {},
   "outputs": [],
   "source": [
    "import pandas as pd\n",
    "import numpy as np\n",
    "from sklearn.metrics.pairwise import cosine_similarity\n",
    "from sklearn.preprocessing import StandardScaler"
   ]
  },
  {
   "cell_type": "code",
   "execution_count": 30,
   "id": "ff440c70-73a3-4d44-b195-d4bc24eba1dc",
   "metadata": {},
   "outputs": [],
   "source": [
    "df_c = pd.read_csv('Customers.csv')\n",
    "df_p = pd.read_csv('Products.csv')\n",
    "df_t = pd.read_csv('Transactions.csv')"
   ]
  },
  {
   "cell_type": "code",
   "execution_count": 31,
   "id": "08f99a68-b5ce-464e-8641-2277efc9fbc6",
   "metadata": {},
   "outputs": [],
   "source": [
    "c_t_merge = df_t.merge(df_c, on=\"CustomerID\")\n",
    "c_t_p_merge = c_t_merge.merge(df_p, on=\"ProductID\")"
   ]
  },
  {
   "cell_type": "code",
   "execution_count": 32,
   "id": "d48372a1-108c-4889-a930-e03215c00b32",
   "metadata": {},
   "outputs": [],
   "source": [
    "c_t_p_merge = c_t_p_merge.drop('Price_y', axis=1)\n",
    "c_t_p_merge = c_t_p_merge.rename(columns={'Price_x': 'Price'})"
   ]
  },
  {
   "cell_type": "code",
   "execution_count": 33,
   "id": "306ec0a7-66bc-4816-af71-f4a178869e6e",
   "metadata": {},
   "outputs": [],
   "source": [
    "customer_features = c_t_p_merge.groupby('CustomerID').agg({\n",
    "    'TotalValue': 'sum',        \n",
    "    'Quantity': 'sum',          \n",
    "    'Price': 'mean',           \n",
    "    'ProductID': 'nunique',         \n",
    "    'Category': 'nunique',        \n",
    "}).reset_index()"
   ]
  },
  {
   "cell_type": "code",
   "execution_count": 34,
   "id": "e0feaa90-bde3-4d04-91b7-fdad5d4ba317",
   "metadata": {},
   "outputs": [
    {
     "data": {
      "text/html": [
       "<div>\n",
       "<style scoped>\n",
       "    .dataframe tbody tr th:only-of-type {\n",
       "        vertical-align: middle;\n",
       "    }\n",
       "\n",
       "    .dataframe tbody tr th {\n",
       "        vertical-align: top;\n",
       "    }\n",
       "\n",
       "    .dataframe thead th {\n",
       "        text-align: right;\n",
       "    }\n",
       "</style>\n",
       "<table border=\"1\" class=\"dataframe\">\n",
       "  <thead>\n",
       "    <tr style=\"text-align: right;\">\n",
       "      <th></th>\n",
       "      <th>CustomerID</th>\n",
       "      <th>TotalValue</th>\n",
       "      <th>Quantity</th>\n",
       "      <th>Price</th>\n",
       "      <th>ProductID</th>\n",
       "      <th>Category</th>\n",
       "    </tr>\n",
       "  </thead>\n",
       "  <tbody>\n",
       "    <tr>\n",
       "      <th>0</th>\n",
       "      <td>C0001</td>\n",
       "      <td>3354.52</td>\n",
       "      <td>12</td>\n",
       "      <td>278.334000</td>\n",
       "      <td>5</td>\n",
       "      <td>3</td>\n",
       "    </tr>\n",
       "    <tr>\n",
       "      <th>1</th>\n",
       "      <td>C0002</td>\n",
       "      <td>1862.74</td>\n",
       "      <td>10</td>\n",
       "      <td>208.920000</td>\n",
       "      <td>4</td>\n",
       "      <td>2</td>\n",
       "    </tr>\n",
       "    <tr>\n",
       "      <th>2</th>\n",
       "      <td>C0003</td>\n",
       "      <td>2725.38</td>\n",
       "      <td>14</td>\n",
       "      <td>195.707500</td>\n",
       "      <td>4</td>\n",
       "      <td>3</td>\n",
       "    </tr>\n",
       "    <tr>\n",
       "      <th>3</th>\n",
       "      <td>C0004</td>\n",
       "      <td>5354.88</td>\n",
       "      <td>23</td>\n",
       "      <td>240.636250</td>\n",
       "      <td>8</td>\n",
       "      <td>3</td>\n",
       "    </tr>\n",
       "    <tr>\n",
       "      <th>4</th>\n",
       "      <td>C0005</td>\n",
       "      <td>2034.24</td>\n",
       "      <td>7</td>\n",
       "      <td>291.603333</td>\n",
       "      <td>3</td>\n",
       "      <td>2</td>\n",
       "    </tr>\n",
       "    <tr>\n",
       "      <th>...</th>\n",
       "      <td>...</td>\n",
       "      <td>...</td>\n",
       "      <td>...</td>\n",
       "      <td>...</td>\n",
       "      <td>...</td>\n",
       "      <td>...</td>\n",
       "    </tr>\n",
       "    <tr>\n",
       "      <th>194</th>\n",
       "      <td>C0196</td>\n",
       "      <td>4982.88</td>\n",
       "      <td>12</td>\n",
       "      <td>416.992500</td>\n",
       "      <td>3</td>\n",
       "      <td>3</td>\n",
       "    </tr>\n",
       "    <tr>\n",
       "      <th>195</th>\n",
       "      <td>C0197</td>\n",
       "      <td>1928.65</td>\n",
       "      <td>9</td>\n",
       "      <td>227.056667</td>\n",
       "      <td>3</td>\n",
       "      <td>2</td>\n",
       "    </tr>\n",
       "    <tr>\n",
       "      <th>196</th>\n",
       "      <td>C0198</td>\n",
       "      <td>931.83</td>\n",
       "      <td>3</td>\n",
       "      <td>239.705000</td>\n",
       "      <td>2</td>\n",
       "      <td>2</td>\n",
       "    </tr>\n",
       "    <tr>\n",
       "      <th>197</th>\n",
       "      <td>C0199</td>\n",
       "      <td>1979.28</td>\n",
       "      <td>9</td>\n",
       "      <td>250.610000</td>\n",
       "      <td>4</td>\n",
       "      <td>2</td>\n",
       "    </tr>\n",
       "    <tr>\n",
       "      <th>198</th>\n",
       "      <td>C0200</td>\n",
       "      <td>4758.60</td>\n",
       "      <td>16</td>\n",
       "      <td>296.506000</td>\n",
       "      <td>5</td>\n",
       "      <td>4</td>\n",
       "    </tr>\n",
       "  </tbody>\n",
       "</table>\n",
       "<p>199 rows × 6 columns</p>\n",
       "</div>"
      ],
      "text/plain": [
       "    CustomerID  TotalValue  Quantity       Price  ProductID  Category\n",
       "0        C0001     3354.52        12  278.334000          5         3\n",
       "1        C0002     1862.74        10  208.920000          4         2\n",
       "2        C0003     2725.38        14  195.707500          4         3\n",
       "3        C0004     5354.88        23  240.636250          8         3\n",
       "4        C0005     2034.24         7  291.603333          3         2\n",
       "..         ...         ...       ...         ...        ...       ...\n",
       "194      C0196     4982.88        12  416.992500          3         3\n",
       "195      C0197     1928.65         9  227.056667          3         2\n",
       "196      C0198      931.83         3  239.705000          2         2\n",
       "197      C0199     1979.28         9  250.610000          4         2\n",
       "198      C0200     4758.60        16  296.506000          5         4\n",
       "\n",
       "[199 rows x 6 columns]"
      ]
     },
     "execution_count": 34,
     "metadata": {},
     "output_type": "execute_result"
    }
   ],
   "source": [
    "customer_features"
   ]
  },
  {
   "cell_type": "code",
   "execution_count": 35,
   "id": "ca9d3d8d-e9e5-4ed0-ad5e-f4157933d05f",
   "metadata": {},
   "outputs": [],
   "source": [
    "customer_features.columns = [\n",
    "    'CustomerID', \n",
    "    'TotalSpend', \n",
    "    'TotalQuantity', \n",
    "    'AvgPrice', \n",
    "    'ProductVariety', \n",
    "    'CategoryVariety'\n",
    "]"
   ]
  },
  {
   "cell_type": "code",
   "execution_count": 36,
   "id": "31a51e92-1da3-4a29-87ad-b9488abf5260",
   "metadata": {},
   "outputs": [],
   "source": [
    "scaler = StandardScaler()\n",
    "scaled_features = scaler.fit_transform(customer_features.iloc[:, 1:]) "
   ]
  },
  {
   "cell_type": "code",
   "execution_count": 37,
   "id": "9f573b18-fcae-4756-bc88-2a3f10ad79fc",
   "metadata": {},
   "outputs": [],
   "source": [
    "similarity_matrix = cosine_similarity(scaled_features)"
   ]
  },
  {
   "cell_type": "code",
   "execution_count": 38,
   "id": "e2797d6d-1cfb-48ce-a25a-3c882d4adc50",
   "metadata": {},
   "outputs": [],
   "source": [
    "customer_ids = customer_features['CustomerID'].tolist()\n",
    "customer_index_map = {customer_id: idx for idx, customer_id in enumerate(customer_ids)}"
   ]
  },
  {
   "cell_type": "code",
   "execution_count": 39,
   "id": "377f76a4-a5a2-469c-97ed-d960b57ea0b4",
   "metadata": {},
   "outputs": [],
   "source": [
    "similar = {}  \n",
    "for customer_id in customer_ids[:20]: \n",
    "    idx = customer_index_map[customer_id]\n",
    "    similarity_scores = list(enumerate(similarity_matrix[idx]))\n",
    "    similarity_scores = sorted(similarity_scores, key=lambda x: x[1], reverse=True)\n",
    "    \n",
    "  \n",
    "    highest_similar = [\n",
    "        (customer_ids[sim_idx], round(sim_score, 4)) \n",
    "        for sim_idx, sim_score in similarity_scores[1:4]\n",
    "    ]\n",
    "    \n",
    "    similar[customer_id] = highest_similar"
   ]
  },
  {
   "cell_type": "code",
   "execution_count": 40,
   "id": "16aebf1e-5ad5-4fa2-9210-ef726f2fe102",
   "metadata": {},
   "outputs": [],
   "source": [
    "similar_data = {\n",
    "    'CustomerID': list(similar.keys()),\n",
    "    'Similar_Customers': [str(lst) for lst in similar.values()]\n",
    "}\n"
   ]
  },
  {
   "cell_type": "code",
   "execution_count": 41,
   "id": "89d13fee-b057-413e-bfc1-22622251c4af",
   "metadata": {},
   "outputs": [],
   "source": [
    "lookalike_df = pd.DataFrame(similar_data)\n",
    "lookalike_df.to_csv('Gagan_Yadav_Lookalike.csv', index=False)"
   ]
  },
  {
   "cell_type": "code",
   "execution_count": null,
   "id": "64a02616-cc81-4558-8bcc-f0e28f5fbb87",
   "metadata": {},
   "outputs": [],
   "source": []
  },
  {
   "cell_type": "code",
   "execution_count": null,
   "id": "33c01c20-3b01-488d-b13c-1e4ee9582f5a",
   "metadata": {},
   "outputs": [],
   "source": []
  }
 ],
 "metadata": {
  "kernelspec": {
   "display_name": "Python 3 (ipykernel)",
   "language": "python",
   "name": "python3"
  },
  "language_info": {
   "codemirror_mode": {
    "name": "ipython",
    "version": 3
   },
   "file_extension": ".py",
   "mimetype": "text/x-python",
   "name": "python",
   "nbconvert_exporter": "python",
   "pygments_lexer": "ipython3",
   "version": "3.8.17"
  }
 },
 "nbformat": 4,
 "nbformat_minor": 5
}
