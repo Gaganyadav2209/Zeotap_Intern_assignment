{
 "cells": [
  {
   "cell_type": "code",
   "execution_count": 1,
   "id": "beed90e3-b586-4df0-b824-e80d7959f5db",
   "metadata": {},
   "outputs": [],
   "source": [
    "import pandas as pd\n",
    "import numpy as np\n",
    "import matplotlib.pyplot as plt"
   ]
  },
  {
   "cell_type": "code",
   "execution_count": 2,
   "id": "edd0a30d-58c7-48b4-96c6-3c5e65f429ce",
   "metadata": {},
   "outputs": [],
   "source": [
    "df_c = pd.read_csv('Customers.csv')\n",
    "df_p = pd.read_csv('Products.csv')\n",
    "df_t = pd.read_csv('Transactions.csv')"
   ]
  },
  {
   "cell_type": "code",
   "execution_count": 4,
   "id": "418ef4de-01d8-45d1-bee1-e83095e887e4",
   "metadata": {},
   "outputs": [
    {
     "data": {
      "text/html": [
       "<div>\n",
       "<style scoped>\n",
       "    .dataframe tbody tr th:only-of-type {\n",
       "        vertical-align: middle;\n",
       "    }\n",
       "\n",
       "    .dataframe tbody tr th {\n",
       "        vertical-align: top;\n",
       "    }\n",
       "\n",
       "    .dataframe thead th {\n",
       "        text-align: right;\n",
       "    }\n",
       "</style>\n",
       "<table border=\"1\" class=\"dataframe\">\n",
       "  <thead>\n",
       "    <tr style=\"text-align: right;\">\n",
       "      <th></th>\n",
       "      <th>CustomerID</th>\n",
       "      <th>CustomerName</th>\n",
       "      <th>Region</th>\n",
       "      <th>SignupDate</th>\n",
       "    </tr>\n",
       "  </thead>\n",
       "  <tbody>\n",
       "    <tr>\n",
       "      <th>0</th>\n",
       "      <td>C0001</td>\n",
       "      <td>Lawrence Carroll</td>\n",
       "      <td>South America</td>\n",
       "      <td>2022-07-10</td>\n",
       "    </tr>\n",
       "    <tr>\n",
       "      <th>1</th>\n",
       "      <td>C0002</td>\n",
       "      <td>Elizabeth Lutz</td>\n",
       "      <td>Asia</td>\n",
       "      <td>2022-02-13</td>\n",
       "    </tr>\n",
       "    <tr>\n",
       "      <th>2</th>\n",
       "      <td>C0003</td>\n",
       "      <td>Michael Rivera</td>\n",
       "      <td>South America</td>\n",
       "      <td>2024-03-07</td>\n",
       "    </tr>\n",
       "    <tr>\n",
       "      <th>3</th>\n",
       "      <td>C0004</td>\n",
       "      <td>Kathleen Rodriguez</td>\n",
       "      <td>South America</td>\n",
       "      <td>2022-10-09</td>\n",
       "    </tr>\n",
       "    <tr>\n",
       "      <th>4</th>\n",
       "      <td>C0005</td>\n",
       "      <td>Laura Weber</td>\n",
       "      <td>Asia</td>\n",
       "      <td>2022-08-15</td>\n",
       "    </tr>\n",
       "  </tbody>\n",
       "</table>\n",
       "</div>"
      ],
      "text/plain": [
       "  CustomerID        CustomerName         Region  SignupDate\n",
       "0      C0001    Lawrence Carroll  South America  2022-07-10\n",
       "1      C0002      Elizabeth Lutz           Asia  2022-02-13\n",
       "2      C0003      Michael Rivera  South America  2024-03-07\n",
       "3      C0004  Kathleen Rodriguez  South America  2022-10-09\n",
       "4      C0005         Laura Weber           Asia  2022-08-15"
      ]
     },
     "execution_count": 4,
     "metadata": {},
     "output_type": "execute_result"
    }
   ],
   "source": [
    "df_c.head()"
   ]
  },
  {
   "cell_type": "code",
   "execution_count": 6,
   "id": "788f3e10-1290-422d-8cea-f89877771e42",
   "metadata": {},
   "outputs": [
    {
     "data": {
      "text/plain": [
       "200"
      ]
     },
     "execution_count": 6,
     "metadata": {},
     "output_type": "execute_result"
    }
   ],
   "source": [
    "len(df_c)"
   ]
  },
  {
   "cell_type": "code",
   "execution_count": 5,
   "id": "935634e9-f1e9-4ec6-8366-ab560b7f4489",
   "metadata": {},
   "outputs": [
    {
     "name": "stdout",
     "output_type": "stream",
     "text": [
      "<class 'pandas.core.frame.DataFrame'>\n",
      "RangeIndex: 200 entries, 0 to 199\n",
      "Data columns (total 4 columns):\n",
      " #   Column        Non-Null Count  Dtype \n",
      "---  ------        --------------  ----- \n",
      " 0   CustomerID    200 non-null    object\n",
      " 1   CustomerName  200 non-null    object\n",
      " 2   Region        200 non-null    object\n",
      " 3   SignupDate    200 non-null    object\n",
      "dtypes: object(4)\n",
      "memory usage: 6.4+ KB\n"
     ]
    }
   ],
   "source": [
    "df_c.info()"
   ]
  },
  {
   "cell_type": "code",
   "execution_count": 7,
   "id": "d1652fba-ed6f-4335-bacb-0ca894d30553",
   "metadata": {},
   "outputs": [
    {
     "data": {
      "text/html": [
       "<div>\n",
       "<style scoped>\n",
       "    .dataframe tbody tr th:only-of-type {\n",
       "        vertical-align: middle;\n",
       "    }\n",
       "\n",
       "    .dataframe tbody tr th {\n",
       "        vertical-align: top;\n",
       "    }\n",
       "\n",
       "    .dataframe thead th {\n",
       "        text-align: right;\n",
       "    }\n",
       "</style>\n",
       "<table border=\"1\" class=\"dataframe\">\n",
       "  <thead>\n",
       "    <tr style=\"text-align: right;\">\n",
       "      <th></th>\n",
       "      <th>CustomerID</th>\n",
       "      <th>CustomerName</th>\n",
       "      <th>Region</th>\n",
       "      <th>SignupDate</th>\n",
       "    </tr>\n",
       "  </thead>\n",
       "  <tbody>\n",
       "    <tr>\n",
       "      <th>count</th>\n",
       "      <td>200</td>\n",
       "      <td>200</td>\n",
       "      <td>200</td>\n",
       "      <td>200</td>\n",
       "    </tr>\n",
       "    <tr>\n",
       "      <th>unique</th>\n",
       "      <td>200</td>\n",
       "      <td>200</td>\n",
       "      <td>4</td>\n",
       "      <td>179</td>\n",
       "    </tr>\n",
       "    <tr>\n",
       "      <th>top</th>\n",
       "      <td>C0001</td>\n",
       "      <td>Lawrence Carroll</td>\n",
       "      <td>South America</td>\n",
       "      <td>2024-11-11</td>\n",
       "    </tr>\n",
       "    <tr>\n",
       "      <th>freq</th>\n",
       "      <td>1</td>\n",
       "      <td>1</td>\n",
       "      <td>59</td>\n",
       "      <td>3</td>\n",
       "    </tr>\n",
       "  </tbody>\n",
       "</table>\n",
       "</div>"
      ],
      "text/plain": [
       "       CustomerID      CustomerName         Region  SignupDate\n",
       "count         200               200            200         200\n",
       "unique        200               200              4         179\n",
       "top         C0001  Lawrence Carroll  South America  2024-11-11\n",
       "freq            1                 1             59           3"
      ]
     },
     "execution_count": 7,
     "metadata": {},
     "output_type": "execute_result"
    }
   ],
   "source": [
    "df_c.describe()"
   ]
  },
  {
   "cell_type": "code",
   "execution_count": 8,
   "id": "6fe745df-5690-4dbc-b1f3-e82623d3c3c6",
   "metadata": {},
   "outputs": [
    {
     "data": {
      "text/plain": [
       "Region\n",
       "South America    59\n",
       "Europe           50\n",
       "North America    46\n",
       "Asia             45\n",
       "Name: count, dtype: int64"
      ]
     },
     "execution_count": 8,
     "metadata": {},
     "output_type": "execute_result"
    }
   ],
   "source": [
    "df_c['Region'].value_counts()"
   ]
  },
  {
   "cell_type": "code",
   "execution_count": 10,
   "id": "64b6c278-777d-45a7-8169-dfa6cf81cb98",
   "metadata": {},
   "outputs": [
    {
     "data": {
      "text/html": [
       "<div>\n",
       "<style scoped>\n",
       "    .dataframe tbody tr th:only-of-type {\n",
       "        vertical-align: middle;\n",
       "    }\n",
       "\n",
       "    .dataframe tbody tr th {\n",
       "        vertical-align: top;\n",
       "    }\n",
       "\n",
       "    .dataframe thead th {\n",
       "        text-align: right;\n",
       "    }\n",
       "</style>\n",
       "<table border=\"1\" class=\"dataframe\">\n",
       "  <thead>\n",
       "    <tr style=\"text-align: right;\">\n",
       "      <th></th>\n",
       "      <th>ProductID</th>\n",
       "      <th>ProductName</th>\n",
       "      <th>Category</th>\n",
       "      <th>Price</th>\n",
       "    </tr>\n",
       "  </thead>\n",
       "  <tbody>\n",
       "    <tr>\n",
       "      <th>0</th>\n",
       "      <td>P001</td>\n",
       "      <td>ActiveWear Biography</td>\n",
       "      <td>Books</td>\n",
       "      <td>169.30</td>\n",
       "    </tr>\n",
       "    <tr>\n",
       "      <th>1</th>\n",
       "      <td>P002</td>\n",
       "      <td>ActiveWear Smartwatch</td>\n",
       "      <td>Electronics</td>\n",
       "      <td>346.30</td>\n",
       "    </tr>\n",
       "    <tr>\n",
       "      <th>2</th>\n",
       "      <td>P003</td>\n",
       "      <td>ComfortLiving Biography</td>\n",
       "      <td>Books</td>\n",
       "      <td>44.12</td>\n",
       "    </tr>\n",
       "    <tr>\n",
       "      <th>3</th>\n",
       "      <td>P004</td>\n",
       "      <td>BookWorld Rug</td>\n",
       "      <td>Home Decor</td>\n",
       "      <td>95.69</td>\n",
       "    </tr>\n",
       "    <tr>\n",
       "      <th>4</th>\n",
       "      <td>P005</td>\n",
       "      <td>TechPro T-Shirt</td>\n",
       "      <td>Clothing</td>\n",
       "      <td>429.31</td>\n",
       "    </tr>\n",
       "  </tbody>\n",
       "</table>\n",
       "</div>"
      ],
      "text/plain": [
       "  ProductID              ProductName     Category   Price\n",
       "0      P001     ActiveWear Biography        Books  169.30\n",
       "1      P002    ActiveWear Smartwatch  Electronics  346.30\n",
       "2      P003  ComfortLiving Biography        Books   44.12\n",
       "3      P004            BookWorld Rug   Home Decor   95.69\n",
       "4      P005          TechPro T-Shirt     Clothing  429.31"
      ]
     },
     "execution_count": 10,
     "metadata": {},
     "output_type": "execute_result"
    }
   ],
   "source": [
    "df_p.head()"
   ]
  },
  {
   "cell_type": "code",
   "execution_count": 11,
   "id": "be5c81d1-81b2-4c46-8b41-8f430492dcdd",
   "metadata": {},
   "outputs": [
    {
     "name": "stdout",
     "output_type": "stream",
     "text": [
      "<class 'pandas.core.frame.DataFrame'>\n",
      "RangeIndex: 100 entries, 0 to 99\n",
      "Data columns (total 4 columns):\n",
      " #   Column       Non-Null Count  Dtype  \n",
      "---  ------       --------------  -----  \n",
      " 0   ProductID    100 non-null    object \n",
      " 1   ProductName  100 non-null    object \n",
      " 2   Category     100 non-null    object \n",
      " 3   Price        100 non-null    float64\n",
      "dtypes: float64(1), object(3)\n",
      "memory usage: 3.2+ KB\n"
     ]
    }
   ],
   "source": [
    "df_p.info()"
   ]
  },
  {
   "cell_type": "code",
   "execution_count": 12,
   "id": "f8f835ad-353b-48bf-80e7-cc99b534fcf4",
   "metadata": {},
   "outputs": [
    {
     "data": {
      "text/plain": [
       "100"
      ]
     },
     "execution_count": 12,
     "metadata": {},
     "output_type": "execute_result"
    }
   ],
   "source": [
    "len(df_p)"
   ]
  },
  {
   "cell_type": "code",
   "execution_count": 13,
   "id": "3cac6b4e-1f9a-4316-ba43-db3e06d1b59e",
   "metadata": {},
   "outputs": [
    {
     "data": {
      "text/plain": [
       "Category\n",
       "Books          26\n",
       "Electronics    26\n",
       "Clothing       25\n",
       "Home Decor     23\n",
       "Name: count, dtype: int64"
      ]
     },
     "execution_count": 13,
     "metadata": {},
     "output_type": "execute_result"
    }
   ],
   "source": [
    "df_p['Category'].value_counts()"
   ]
  },
  {
   "cell_type": "code",
   "execution_count": 14,
   "id": "142cbabc-fee3-4d06-9710-cae47a24efa1",
   "metadata": {},
   "outputs": [
    {
     "data": {
      "text/plain": [
       "ProductName\n",
       "ActiveWear Smartwatch         4\n",
       "SoundWave Headphones          4\n",
       "BookWorld Biography           3\n",
       "TechPro T-Shirt               3\n",
       "SoundWave Cookbook            3\n",
       "                             ..\n",
       "BookWorld Jacket              1\n",
       "ComfortLiving Smartphone      1\n",
       "SoundWave T-Shirt             1\n",
       "ComfortLiving Cookware Set    1\n",
       "SoundWave Laptop              1\n",
       "Name: count, Length: 66, dtype: int64"
      ]
     },
     "execution_count": 14,
     "metadata": {},
     "output_type": "execute_result"
    }
   ],
   "source": [
    "df_p['ProductName'].value_counts()"
   ]
  },
  {
   "cell_type": "code",
   "execution_count": 16,
   "id": "e6971436-afe6-40cc-9b12-a50adca6d17d",
   "metadata": {},
   "outputs": [
    {
     "data": {
      "text/plain": [
       "count    100.000000\n",
       "mean     267.551700\n",
       "std      143.219383\n",
       "min       16.080000\n",
       "25%      147.767500\n",
       "50%      292.875000\n",
       "75%      397.090000\n",
       "max      497.760000\n",
       "Name: Price, dtype: float64"
      ]
     },
     "execution_count": 16,
     "metadata": {},
     "output_type": "execute_result"
    }
   ],
   "source": [
    "df_p['Price'].describe()"
   ]
  },
  {
   "cell_type": "code",
   "execution_count": 17,
   "id": "db59de70-3b18-4d7f-9c3f-e308ec96a8af",
   "metadata": {},
   "outputs": [
    {
     "data": {
      "text/html": [
       "<div>\n",
       "<style scoped>\n",
       "    .dataframe tbody tr th:only-of-type {\n",
       "        vertical-align: middle;\n",
       "    }\n",
       "\n",
       "    .dataframe tbody tr th {\n",
       "        vertical-align: top;\n",
       "    }\n",
       "\n",
       "    .dataframe thead th {\n",
       "        text-align: right;\n",
       "    }\n",
       "</style>\n",
       "<table border=\"1\" class=\"dataframe\">\n",
       "  <thead>\n",
       "    <tr style=\"text-align: right;\">\n",
       "      <th></th>\n",
       "      <th>TransactionID</th>\n",
       "      <th>CustomerID</th>\n",
       "      <th>ProductID</th>\n",
       "      <th>TransactionDate</th>\n",
       "      <th>Quantity</th>\n",
       "      <th>TotalValue</th>\n",
       "      <th>Price</th>\n",
       "    </tr>\n",
       "  </thead>\n",
       "  <tbody>\n",
       "    <tr>\n",
       "      <th>0</th>\n",
       "      <td>T00001</td>\n",
       "      <td>C0199</td>\n",
       "      <td>P067</td>\n",
       "      <td>2024-08-25 12:38:23</td>\n",
       "      <td>1</td>\n",
       "      <td>300.68</td>\n",
       "      <td>300.68</td>\n",
       "    </tr>\n",
       "    <tr>\n",
       "      <th>1</th>\n",
       "      <td>T00112</td>\n",
       "      <td>C0146</td>\n",
       "      <td>P067</td>\n",
       "      <td>2024-05-27 22:23:54</td>\n",
       "      <td>1</td>\n",
       "      <td>300.68</td>\n",
       "      <td>300.68</td>\n",
       "    </tr>\n",
       "    <tr>\n",
       "      <th>2</th>\n",
       "      <td>T00166</td>\n",
       "      <td>C0127</td>\n",
       "      <td>P067</td>\n",
       "      <td>2024-04-25 07:38:55</td>\n",
       "      <td>1</td>\n",
       "      <td>300.68</td>\n",
       "      <td>300.68</td>\n",
       "    </tr>\n",
       "    <tr>\n",
       "      <th>3</th>\n",
       "      <td>T00272</td>\n",
       "      <td>C0087</td>\n",
       "      <td>P067</td>\n",
       "      <td>2024-03-26 22:55:37</td>\n",
       "      <td>2</td>\n",
       "      <td>601.36</td>\n",
       "      <td>300.68</td>\n",
       "    </tr>\n",
       "    <tr>\n",
       "      <th>4</th>\n",
       "      <td>T00363</td>\n",
       "      <td>C0070</td>\n",
       "      <td>P067</td>\n",
       "      <td>2024-03-21 15:10:10</td>\n",
       "      <td>3</td>\n",
       "      <td>902.04</td>\n",
       "      <td>300.68</td>\n",
       "    </tr>\n",
       "  </tbody>\n",
       "</table>\n",
       "</div>"
      ],
      "text/plain": [
       "  TransactionID CustomerID ProductID      TransactionDate  Quantity  \\\n",
       "0        T00001      C0199      P067  2024-08-25 12:38:23         1   \n",
       "1        T00112      C0146      P067  2024-05-27 22:23:54         1   \n",
       "2        T00166      C0127      P067  2024-04-25 07:38:55         1   \n",
       "3        T00272      C0087      P067  2024-03-26 22:55:37         2   \n",
       "4        T00363      C0070      P067  2024-03-21 15:10:10         3   \n",
       "\n",
       "   TotalValue   Price  \n",
       "0      300.68  300.68  \n",
       "1      300.68  300.68  \n",
       "2      300.68  300.68  \n",
       "3      601.36  300.68  \n",
       "4      902.04  300.68  "
      ]
     },
     "execution_count": 17,
     "metadata": {},
     "output_type": "execute_result"
    }
   ],
   "source": [
    "df_t.head()"
   ]
  },
  {
   "cell_type": "code",
   "execution_count": 18,
   "id": "831b3120-f080-4a84-abc7-1cdc81262845",
   "metadata": {},
   "outputs": [
    {
     "data": {
      "text/plain": [
       "1000"
      ]
     },
     "execution_count": 18,
     "metadata": {},
     "output_type": "execute_result"
    }
   ],
   "source": [
    "len(df_t)"
   ]
  },
  {
   "cell_type": "code",
   "execution_count": 19,
   "id": "9b57f90a-f6cd-40ef-b2c7-6d4c3df53512",
   "metadata": {},
   "outputs": [
    {
     "name": "stdout",
     "output_type": "stream",
     "text": [
      "<class 'pandas.core.frame.DataFrame'>\n",
      "RangeIndex: 1000 entries, 0 to 999\n",
      "Data columns (total 7 columns):\n",
      " #   Column           Non-Null Count  Dtype  \n",
      "---  ------           --------------  -----  \n",
      " 0   TransactionID    1000 non-null   object \n",
      " 1   CustomerID       1000 non-null   object \n",
      " 2   ProductID        1000 non-null   object \n",
      " 3   TransactionDate  1000 non-null   object \n",
      " 4   Quantity         1000 non-null   int64  \n",
      " 5   TotalValue       1000 non-null   float64\n",
      " 6   Price            1000 non-null   float64\n",
      "dtypes: float64(2), int64(1), object(4)\n",
      "memory usage: 54.8+ KB\n"
     ]
    }
   ],
   "source": [
    "df_t.info()"
   ]
  },
  {
   "cell_type": "code",
   "execution_count": 21,
   "id": "273f287a-4ee0-4f39-98b5-396b48f066ff",
   "metadata": {},
   "outputs": [
    {
     "data": {
      "text/plain": [
       "CustomerID\n",
       "C0109    11\n",
       "C0156    11\n",
       "C0141    10\n",
       "C0175    10\n",
       "C0065    10\n",
       "         ..\n",
       "C0058     1\n",
       "C0014     1\n",
       "C0151     1\n",
       "C0078     1\n",
       "C0110     1\n",
       "Name: count, Length: 199, dtype: int64"
      ]
     },
     "execution_count": 21,
     "metadata": {},
     "output_type": "execute_result"
    }
   ],
   "source": [
    "df_t['CustomerID'].value_counts()"
   ]
  },
  {
   "cell_type": "code",
   "execution_count": 22,
   "id": "ba3cde03-6f46-4ed3-a994-32742b5471d0",
   "metadata": {},
   "outputs": [
    {
     "data": {
      "text/plain": [
       "ProductID\n",
       "P059    19\n",
       "P029    17\n",
       "P062    16\n",
       "P079    16\n",
       "P054    16\n",
       "        ..\n",
       "P024     5\n",
       "P014     4\n",
       "P031     4\n",
       "P044     4\n",
       "P099     4\n",
       "Name: count, Length: 100, dtype: int64"
      ]
     },
     "execution_count": 22,
     "metadata": {},
     "output_type": "execute_result"
    }
   ],
   "source": [
    "df_t['ProductID'].value_counts()"
   ]
  },
  {
   "cell_type": "code",
   "execution_count": 23,
   "id": "02dbf44a-d172-49df-b3e7-8c32d3ab7f06",
   "metadata": {},
   "outputs": [
    {
     "data": {
      "text/plain": [
       "Quantity\n",
       "4    261\n",
       "3    254\n",
       "2    246\n",
       "1    239\n",
       "Name: count, dtype: int64"
      ]
     },
     "execution_count": 23,
     "metadata": {},
     "output_type": "execute_result"
    }
   ],
   "source": [
    "df_t['Quantity'].value_counts()"
   ]
  },
  {
   "cell_type": "code",
   "execution_count": 25,
   "id": "9741c2dd-2efe-4365-bf50-0c94fb61b9fa",
   "metadata": {},
   "outputs": [
    {
     "data": {
      "text/plain": [
       "count    1000.000000\n",
       "mean      689.995560\n",
       "std       493.144478\n",
       "min        16.080000\n",
       "25%       295.295000\n",
       "50%       588.880000\n",
       "75%      1011.660000\n",
       "max      1991.040000\n",
       "Name: TotalValue, dtype: float64"
      ]
     },
     "execution_count": 25,
     "metadata": {},
     "output_type": "execute_result"
    }
   ],
   "source": [
    "df_t['TotalValue'].describe()"
   ]
  },
  {
   "cell_type": "code",
   "execution_count": 26,
   "id": "ac674897-f924-41ed-a460-ec5603a2125d",
   "metadata": {},
   "outputs": [
    {
     "data": {
      "text/plain": [
       "count    1000.00000\n",
       "mean      272.55407\n",
       "std       140.73639\n",
       "min        16.08000\n",
       "25%       147.95000\n",
       "50%       299.93000\n",
       "75%       404.40000\n",
       "max       497.76000\n",
       "Name: Price, dtype: float64"
      ]
     },
     "execution_count": 26,
     "metadata": {},
     "output_type": "execute_result"
    }
   ],
   "source": [
    "df_t['Price'].describe()"
   ]
  },
  {
   "cell_type": "code",
   "execution_count": 27,
   "id": "91674ce8-f55c-44bc-a846-2f7969b06de9",
   "metadata": {},
   "outputs": [
    {
     "data": {
      "text/plain": [
       "pandas.core.series.Series"
      ]
     },
     "execution_count": 27,
     "metadata": {},
     "output_type": "execute_result"
    }
   ],
   "source": [
    "type(df_c['SignupDate'])"
   ]
  },
  {
   "cell_type": "code",
   "execution_count": 28,
   "id": "ffa50d41-48da-40a8-9ec3-67f713b8b942",
   "metadata": {},
   "outputs": [
    {
     "data": {
      "text/plain": [
       "pandas.core.series.Series"
      ]
     },
     "execution_count": 28,
     "metadata": {},
     "output_type": "execute_result"
    }
   ],
   "source": [
    "type(df_t['TransactionDate'])"
   ]
  },
  {
   "cell_type": "code",
   "execution_count": 32,
   "id": "16f186f3-9963-4a34-8232-af86b5bc4296",
   "metadata": {},
   "outputs": [
    {
     "data": {
      "text/html": [
       "<div>\n",
       "<style scoped>\n",
       "    .dataframe tbody tr th:only-of-type {\n",
       "        vertical-align: middle;\n",
       "    }\n",
       "\n",
       "    .dataframe tbody tr th {\n",
       "        vertical-align: top;\n",
       "    }\n",
       "\n",
       "    .dataframe thead th {\n",
       "        text-align: right;\n",
       "    }\n",
       "</style>\n",
       "<table border=\"1\" class=\"dataframe\">\n",
       "  <thead>\n",
       "    <tr style=\"text-align: right;\">\n",
       "      <th></th>\n",
       "      <th>mean</th>\n",
       "      <th>min</th>\n",
       "      <th>max</th>\n",
       "    </tr>\n",
       "    <tr>\n",
       "      <th>Category</th>\n",
       "      <th></th>\n",
       "      <th></th>\n",
       "      <th></th>\n",
       "    </tr>\n",
       "  </thead>\n",
       "  <tbody>\n",
       "    <tr>\n",
       "      <th>Books</th>\n",
       "      <td>292.212308</td>\n",
       "      <td>33.59</td>\n",
       "      <td>497.76</td>\n",
       "    </tr>\n",
       "    <tr>\n",
       "      <th>Clothing</th>\n",
       "      <td>263.720000</td>\n",
       "      <td>18.82</td>\n",
       "      <td>481.78</td>\n",
       "    </tr>\n",
       "    <tr>\n",
       "      <th>Electronics</th>\n",
       "      <td>275.353462</td>\n",
       "      <td>16.08</td>\n",
       "      <td>459.86</td>\n",
       "    </tr>\n",
       "    <tr>\n",
       "      <th>Home Decor</th>\n",
       "      <td>235.020000</td>\n",
       "      <td>41.18</td>\n",
       "      <td>454.53</td>\n",
       "    </tr>\n",
       "  </tbody>\n",
       "</table>\n",
       "</div>"
      ],
      "text/plain": [
       "                   mean    min     max\n",
       "Category                              \n",
       "Books        292.212308  33.59  497.76\n",
       "Clothing     263.720000  18.82  481.78\n",
       "Electronics  275.353462  16.08  459.86\n",
       "Home Decor   235.020000  41.18  454.53"
      ]
     },
     "execution_count": 32,
     "metadata": {},
     "output_type": "execute_result"
    }
   ],
   "source": [
    "category_info = df_p.groupby(\"Category\")[\"Price\"].agg([\"mean\", \"min\", \"max\"])\n",
    "category_info"
   ]
  },
  {
   "cell_type": "code",
   "execution_count": 34,
   "id": "efcde171-e4f6-485f-aa7e-cc0910de37f8",
   "metadata": {},
   "outputs": [],
   "source": [
    "c_t_merge = df_t.merge(df_c, on=\"CustomerID\")\n",
    "c_t_p_merge = c_t_merge.merge(df_p, on=\"ProductID\")"
   ]
  },
  {
   "cell_type": "code",
   "execution_count": 35,
   "id": "93965b1f-cb94-4216-9016-04a0ad20dde5",
   "metadata": {},
   "outputs": [
    {
     "data": {
      "text/html": [
       "<div>\n",
       "<style scoped>\n",
       "    .dataframe tbody tr th:only-of-type {\n",
       "        vertical-align: middle;\n",
       "    }\n",
       "\n",
       "    .dataframe tbody tr th {\n",
       "        vertical-align: top;\n",
       "    }\n",
       "\n",
       "    .dataframe thead th {\n",
       "        text-align: right;\n",
       "    }\n",
       "</style>\n",
       "<table border=\"1\" class=\"dataframe\">\n",
       "  <thead>\n",
       "    <tr style=\"text-align: right;\">\n",
       "      <th></th>\n",
       "      <th>TransactionID</th>\n",
       "      <th>CustomerID</th>\n",
       "      <th>ProductID</th>\n",
       "      <th>TransactionDate</th>\n",
       "      <th>Quantity</th>\n",
       "      <th>TotalValue</th>\n",
       "      <th>Price_x</th>\n",
       "      <th>CustomerName</th>\n",
       "      <th>Region</th>\n",
       "      <th>SignupDate</th>\n",
       "      <th>ProductName</th>\n",
       "      <th>Category</th>\n",
       "      <th>Price_y</th>\n",
       "    </tr>\n",
       "  </thead>\n",
       "  <tbody>\n",
       "    <tr>\n",
       "      <th>0</th>\n",
       "      <td>T00001</td>\n",
       "      <td>C0199</td>\n",
       "      <td>P067</td>\n",
       "      <td>2024-08-25 12:38:23</td>\n",
       "      <td>1</td>\n",
       "      <td>300.68</td>\n",
       "      <td>300.68</td>\n",
       "      <td>Andrea Jenkins</td>\n",
       "      <td>Europe</td>\n",
       "      <td>2022-12-03</td>\n",
       "      <td>ComfortLiving Bluetooth Speaker</td>\n",
       "      <td>Electronics</td>\n",
       "      <td>300.68</td>\n",
       "    </tr>\n",
       "    <tr>\n",
       "      <th>1</th>\n",
       "      <td>T00112</td>\n",
       "      <td>C0146</td>\n",
       "      <td>P067</td>\n",
       "      <td>2024-05-27 22:23:54</td>\n",
       "      <td>1</td>\n",
       "      <td>300.68</td>\n",
       "      <td>300.68</td>\n",
       "      <td>Brittany Harvey</td>\n",
       "      <td>Asia</td>\n",
       "      <td>2024-09-04</td>\n",
       "      <td>ComfortLiving Bluetooth Speaker</td>\n",
       "      <td>Electronics</td>\n",
       "      <td>300.68</td>\n",
       "    </tr>\n",
       "    <tr>\n",
       "      <th>2</th>\n",
       "      <td>T00166</td>\n",
       "      <td>C0127</td>\n",
       "      <td>P067</td>\n",
       "      <td>2024-04-25 07:38:55</td>\n",
       "      <td>1</td>\n",
       "      <td>300.68</td>\n",
       "      <td>300.68</td>\n",
       "      <td>Kathryn Stevens</td>\n",
       "      <td>Europe</td>\n",
       "      <td>2024-04-04</td>\n",
       "      <td>ComfortLiving Bluetooth Speaker</td>\n",
       "      <td>Electronics</td>\n",
       "      <td>300.68</td>\n",
       "    </tr>\n",
       "    <tr>\n",
       "      <th>3</th>\n",
       "      <td>T00272</td>\n",
       "      <td>C0087</td>\n",
       "      <td>P067</td>\n",
       "      <td>2024-03-26 22:55:37</td>\n",
       "      <td>2</td>\n",
       "      <td>601.36</td>\n",
       "      <td>300.68</td>\n",
       "      <td>Travis Campbell</td>\n",
       "      <td>South America</td>\n",
       "      <td>2024-04-11</td>\n",
       "      <td>ComfortLiving Bluetooth Speaker</td>\n",
       "      <td>Electronics</td>\n",
       "      <td>300.68</td>\n",
       "    </tr>\n",
       "    <tr>\n",
       "      <th>4</th>\n",
       "      <td>T00363</td>\n",
       "      <td>C0070</td>\n",
       "      <td>P067</td>\n",
       "      <td>2024-03-21 15:10:10</td>\n",
       "      <td>3</td>\n",
       "      <td>902.04</td>\n",
       "      <td>300.68</td>\n",
       "      <td>Timothy Perez</td>\n",
       "      <td>Europe</td>\n",
       "      <td>2022-03-15</td>\n",
       "      <td>ComfortLiving Bluetooth Speaker</td>\n",
       "      <td>Electronics</td>\n",
       "      <td>300.68</td>\n",
       "    </tr>\n",
       "    <tr>\n",
       "      <th>...</th>\n",
       "      <td>...</td>\n",
       "      <td>...</td>\n",
       "      <td>...</td>\n",
       "      <td>...</td>\n",
       "      <td>...</td>\n",
       "      <td>...</td>\n",
       "      <td>...</td>\n",
       "      <td>...</td>\n",
       "      <td>...</td>\n",
       "      <td>...</td>\n",
       "      <td>...</td>\n",
       "      <td>...</td>\n",
       "      <td>...</td>\n",
       "    </tr>\n",
       "    <tr>\n",
       "      <th>995</th>\n",
       "      <td>T00630</td>\n",
       "      <td>C0031</td>\n",
       "      <td>P093</td>\n",
       "      <td>2024-10-08 23:58:14</td>\n",
       "      <td>2</td>\n",
       "      <td>609.88</td>\n",
       "      <td>304.94</td>\n",
       "      <td>Tina Miller</td>\n",
       "      <td>South America</td>\n",
       "      <td>2024-04-11</td>\n",
       "      <td>TechPro Vase</td>\n",
       "      <td>Home Decor</td>\n",
       "      <td>304.94</td>\n",
       "    </tr>\n",
       "    <tr>\n",
       "      <th>996</th>\n",
       "      <td>T00672</td>\n",
       "      <td>C0165</td>\n",
       "      <td>P044</td>\n",
       "      <td>2024-07-28 00:09:49</td>\n",
       "      <td>4</td>\n",
       "      <td>75.28</td>\n",
       "      <td>18.82</td>\n",
       "      <td>Juan Mcdaniel</td>\n",
       "      <td>South America</td>\n",
       "      <td>2022-04-09</td>\n",
       "      <td>ActiveWear Running Shoes</td>\n",
       "      <td>Clothing</td>\n",
       "      <td>18.82</td>\n",
       "    </tr>\n",
       "    <tr>\n",
       "      <th>997</th>\n",
       "      <td>T00711</td>\n",
       "      <td>C0165</td>\n",
       "      <td>P044</td>\n",
       "      <td>2024-06-11 15:51:14</td>\n",
       "      <td>4</td>\n",
       "      <td>75.28</td>\n",
       "      <td>18.82</td>\n",
       "      <td>Juan Mcdaniel</td>\n",
       "      <td>South America</td>\n",
       "      <td>2022-04-09</td>\n",
       "      <td>ActiveWear Running Shoes</td>\n",
       "      <td>Clothing</td>\n",
       "      <td>18.82</td>\n",
       "    </tr>\n",
       "    <tr>\n",
       "      <th>998</th>\n",
       "      <td>T00878</td>\n",
       "      <td>C0165</td>\n",
       "      <td>P044</td>\n",
       "      <td>2024-09-24 21:15:21</td>\n",
       "      <td>3</td>\n",
       "      <td>56.46</td>\n",
       "      <td>18.82</td>\n",
       "      <td>Juan Mcdaniel</td>\n",
       "      <td>South America</td>\n",
       "      <td>2022-04-09</td>\n",
       "      <td>ActiveWear Running Shoes</td>\n",
       "      <td>Clothing</td>\n",
       "      <td>18.82</td>\n",
       "    </tr>\n",
       "    <tr>\n",
       "      <th>999</th>\n",
       "      <td>T00157</td>\n",
       "      <td>C0169</td>\n",
       "      <td>P044</td>\n",
       "      <td>2024-11-09 09:07:36</td>\n",
       "      <td>2</td>\n",
       "      <td>37.64</td>\n",
       "      <td>18.82</td>\n",
       "      <td>Jennifer Shaw</td>\n",
       "      <td>South America</td>\n",
       "      <td>2023-04-13</td>\n",
       "      <td>ActiveWear Running Shoes</td>\n",
       "      <td>Clothing</td>\n",
       "      <td>18.82</td>\n",
       "    </tr>\n",
       "  </tbody>\n",
       "</table>\n",
       "<p>1000 rows × 13 columns</p>\n",
       "</div>"
      ],
      "text/plain": [
       "    TransactionID CustomerID ProductID      TransactionDate  Quantity  \\\n",
       "0          T00001      C0199      P067  2024-08-25 12:38:23         1   \n",
       "1          T00112      C0146      P067  2024-05-27 22:23:54         1   \n",
       "2          T00166      C0127      P067  2024-04-25 07:38:55         1   \n",
       "3          T00272      C0087      P067  2024-03-26 22:55:37         2   \n",
       "4          T00363      C0070      P067  2024-03-21 15:10:10         3   \n",
       "..            ...        ...       ...                  ...       ...   \n",
       "995        T00630      C0031      P093  2024-10-08 23:58:14         2   \n",
       "996        T00672      C0165      P044  2024-07-28 00:09:49         4   \n",
       "997        T00711      C0165      P044  2024-06-11 15:51:14         4   \n",
       "998        T00878      C0165      P044  2024-09-24 21:15:21         3   \n",
       "999        T00157      C0169      P044  2024-11-09 09:07:36         2   \n",
       "\n",
       "     TotalValue  Price_x     CustomerName         Region  SignupDate  \\\n",
       "0        300.68   300.68   Andrea Jenkins         Europe  2022-12-03   \n",
       "1        300.68   300.68  Brittany Harvey           Asia  2024-09-04   \n",
       "2        300.68   300.68  Kathryn Stevens         Europe  2024-04-04   \n",
       "3        601.36   300.68  Travis Campbell  South America  2024-04-11   \n",
       "4        902.04   300.68    Timothy Perez         Europe  2022-03-15   \n",
       "..          ...      ...              ...            ...         ...   \n",
       "995      609.88   304.94      Tina Miller  South America  2024-04-11   \n",
       "996       75.28    18.82    Juan Mcdaniel  South America  2022-04-09   \n",
       "997       75.28    18.82    Juan Mcdaniel  South America  2022-04-09   \n",
       "998       56.46    18.82    Juan Mcdaniel  South America  2022-04-09   \n",
       "999       37.64    18.82    Jennifer Shaw  South America  2023-04-13   \n",
       "\n",
       "                         ProductName     Category  Price_y  \n",
       "0    ComfortLiving Bluetooth Speaker  Electronics   300.68  \n",
       "1    ComfortLiving Bluetooth Speaker  Electronics   300.68  \n",
       "2    ComfortLiving Bluetooth Speaker  Electronics   300.68  \n",
       "3    ComfortLiving Bluetooth Speaker  Electronics   300.68  \n",
       "4    ComfortLiving Bluetooth Speaker  Electronics   300.68  \n",
       "..                               ...          ...      ...  \n",
       "995                     TechPro Vase   Home Decor   304.94  \n",
       "996         ActiveWear Running Shoes     Clothing    18.82  \n",
       "997         ActiveWear Running Shoes     Clothing    18.82  \n",
       "998         ActiveWear Running Shoes     Clothing    18.82  \n",
       "999         ActiveWear Running Shoes     Clothing    18.82  \n",
       "\n",
       "[1000 rows x 13 columns]"
      ]
     },
     "execution_count": 35,
     "metadata": {},
     "output_type": "execute_result"
    }
   ],
   "source": [
    "c_t_p_merge"
   ]
  },
  {
   "cell_type": "code",
   "execution_count": 38,
   "id": "9b76c24f-f8f7-45bd-b83d-0f9953bf4412",
   "metadata": {},
   "outputs": [],
   "source": [
    "c_t_p_merge = c_t_p_merge.drop('Price_y', axis=1)\n",
    "c_t_p_merge = c_t_p_merge.rename(columns={'Price_x': 'Price'})"
   ]
  },
  {
   "cell_type": "code",
   "execution_count": 39,
   "id": "8721433e-58e1-4ce6-97bb-2d3553569708",
   "metadata": {},
   "outputs": [
    {
     "data": {
      "text/html": [
       "<div>\n",
       "<style scoped>\n",
       "    .dataframe tbody tr th:only-of-type {\n",
       "        vertical-align: middle;\n",
       "    }\n",
       "\n",
       "    .dataframe tbody tr th {\n",
       "        vertical-align: top;\n",
       "    }\n",
       "\n",
       "    .dataframe thead th {\n",
       "        text-align: right;\n",
       "    }\n",
       "</style>\n",
       "<table border=\"1\" class=\"dataframe\">\n",
       "  <thead>\n",
       "    <tr style=\"text-align: right;\">\n",
       "      <th></th>\n",
       "      <th>TransactionID</th>\n",
       "      <th>CustomerID</th>\n",
       "      <th>ProductID</th>\n",
       "      <th>TransactionDate</th>\n",
       "      <th>Quantity</th>\n",
       "      <th>TotalValue</th>\n",
       "      <th>Price</th>\n",
       "      <th>CustomerName</th>\n",
       "      <th>Region</th>\n",
       "      <th>SignupDate</th>\n",
       "      <th>ProductName</th>\n",
       "      <th>Category</th>\n",
       "    </tr>\n",
       "  </thead>\n",
       "  <tbody>\n",
       "    <tr>\n",
       "      <th>0</th>\n",
       "      <td>T00001</td>\n",
       "      <td>C0199</td>\n",
       "      <td>P067</td>\n",
       "      <td>2024-08-25 12:38:23</td>\n",
       "      <td>1</td>\n",
       "      <td>300.68</td>\n",
       "      <td>300.68</td>\n",
       "      <td>Andrea Jenkins</td>\n",
       "      <td>Europe</td>\n",
       "      <td>2022-12-03</td>\n",
       "      <td>ComfortLiving Bluetooth Speaker</td>\n",
       "      <td>Electronics</td>\n",
       "    </tr>\n",
       "    <tr>\n",
       "      <th>1</th>\n",
       "      <td>T00112</td>\n",
       "      <td>C0146</td>\n",
       "      <td>P067</td>\n",
       "      <td>2024-05-27 22:23:54</td>\n",
       "      <td>1</td>\n",
       "      <td>300.68</td>\n",
       "      <td>300.68</td>\n",
       "      <td>Brittany Harvey</td>\n",
       "      <td>Asia</td>\n",
       "      <td>2024-09-04</td>\n",
       "      <td>ComfortLiving Bluetooth Speaker</td>\n",
       "      <td>Electronics</td>\n",
       "    </tr>\n",
       "    <tr>\n",
       "      <th>2</th>\n",
       "      <td>T00166</td>\n",
       "      <td>C0127</td>\n",
       "      <td>P067</td>\n",
       "      <td>2024-04-25 07:38:55</td>\n",
       "      <td>1</td>\n",
       "      <td>300.68</td>\n",
       "      <td>300.68</td>\n",
       "      <td>Kathryn Stevens</td>\n",
       "      <td>Europe</td>\n",
       "      <td>2024-04-04</td>\n",
       "      <td>ComfortLiving Bluetooth Speaker</td>\n",
       "      <td>Electronics</td>\n",
       "    </tr>\n",
       "    <tr>\n",
       "      <th>3</th>\n",
       "      <td>T00272</td>\n",
       "      <td>C0087</td>\n",
       "      <td>P067</td>\n",
       "      <td>2024-03-26 22:55:37</td>\n",
       "      <td>2</td>\n",
       "      <td>601.36</td>\n",
       "      <td>300.68</td>\n",
       "      <td>Travis Campbell</td>\n",
       "      <td>South America</td>\n",
       "      <td>2024-04-11</td>\n",
       "      <td>ComfortLiving Bluetooth Speaker</td>\n",
       "      <td>Electronics</td>\n",
       "    </tr>\n",
       "    <tr>\n",
       "      <th>4</th>\n",
       "      <td>T00363</td>\n",
       "      <td>C0070</td>\n",
       "      <td>P067</td>\n",
       "      <td>2024-03-21 15:10:10</td>\n",
       "      <td>3</td>\n",
       "      <td>902.04</td>\n",
       "      <td>300.68</td>\n",
       "      <td>Timothy Perez</td>\n",
       "      <td>Europe</td>\n",
       "      <td>2022-03-15</td>\n",
       "      <td>ComfortLiving Bluetooth Speaker</td>\n",
       "      <td>Electronics</td>\n",
       "    </tr>\n",
       "    <tr>\n",
       "      <th>...</th>\n",
       "      <td>...</td>\n",
       "      <td>...</td>\n",
       "      <td>...</td>\n",
       "      <td>...</td>\n",
       "      <td>...</td>\n",
       "      <td>...</td>\n",
       "      <td>...</td>\n",
       "      <td>...</td>\n",
       "      <td>...</td>\n",
       "      <td>...</td>\n",
       "      <td>...</td>\n",
       "      <td>...</td>\n",
       "    </tr>\n",
       "    <tr>\n",
       "      <th>995</th>\n",
       "      <td>T00630</td>\n",
       "      <td>C0031</td>\n",
       "      <td>P093</td>\n",
       "      <td>2024-10-08 23:58:14</td>\n",
       "      <td>2</td>\n",
       "      <td>609.88</td>\n",
       "      <td>304.94</td>\n",
       "      <td>Tina Miller</td>\n",
       "      <td>South America</td>\n",
       "      <td>2024-04-11</td>\n",
       "      <td>TechPro Vase</td>\n",
       "      <td>Home Decor</td>\n",
       "    </tr>\n",
       "    <tr>\n",
       "      <th>996</th>\n",
       "      <td>T00672</td>\n",
       "      <td>C0165</td>\n",
       "      <td>P044</td>\n",
       "      <td>2024-07-28 00:09:49</td>\n",
       "      <td>4</td>\n",
       "      <td>75.28</td>\n",
       "      <td>18.82</td>\n",
       "      <td>Juan Mcdaniel</td>\n",
       "      <td>South America</td>\n",
       "      <td>2022-04-09</td>\n",
       "      <td>ActiveWear Running Shoes</td>\n",
       "      <td>Clothing</td>\n",
       "    </tr>\n",
       "    <tr>\n",
       "      <th>997</th>\n",
       "      <td>T00711</td>\n",
       "      <td>C0165</td>\n",
       "      <td>P044</td>\n",
       "      <td>2024-06-11 15:51:14</td>\n",
       "      <td>4</td>\n",
       "      <td>75.28</td>\n",
       "      <td>18.82</td>\n",
       "      <td>Juan Mcdaniel</td>\n",
       "      <td>South America</td>\n",
       "      <td>2022-04-09</td>\n",
       "      <td>ActiveWear Running Shoes</td>\n",
       "      <td>Clothing</td>\n",
       "    </tr>\n",
       "    <tr>\n",
       "      <th>998</th>\n",
       "      <td>T00878</td>\n",
       "      <td>C0165</td>\n",
       "      <td>P044</td>\n",
       "      <td>2024-09-24 21:15:21</td>\n",
       "      <td>3</td>\n",
       "      <td>56.46</td>\n",
       "      <td>18.82</td>\n",
       "      <td>Juan Mcdaniel</td>\n",
       "      <td>South America</td>\n",
       "      <td>2022-04-09</td>\n",
       "      <td>ActiveWear Running Shoes</td>\n",
       "      <td>Clothing</td>\n",
       "    </tr>\n",
       "    <tr>\n",
       "      <th>999</th>\n",
       "      <td>T00157</td>\n",
       "      <td>C0169</td>\n",
       "      <td>P044</td>\n",
       "      <td>2024-11-09 09:07:36</td>\n",
       "      <td>2</td>\n",
       "      <td>37.64</td>\n",
       "      <td>18.82</td>\n",
       "      <td>Jennifer Shaw</td>\n",
       "      <td>South America</td>\n",
       "      <td>2023-04-13</td>\n",
       "      <td>ActiveWear Running Shoes</td>\n",
       "      <td>Clothing</td>\n",
       "    </tr>\n",
       "  </tbody>\n",
       "</table>\n",
       "<p>1000 rows × 12 columns</p>\n",
       "</div>"
      ],
      "text/plain": [
       "    TransactionID CustomerID ProductID      TransactionDate  Quantity  \\\n",
       "0          T00001      C0199      P067  2024-08-25 12:38:23         1   \n",
       "1          T00112      C0146      P067  2024-05-27 22:23:54         1   \n",
       "2          T00166      C0127      P067  2024-04-25 07:38:55         1   \n",
       "3          T00272      C0087      P067  2024-03-26 22:55:37         2   \n",
       "4          T00363      C0070      P067  2024-03-21 15:10:10         3   \n",
       "..            ...        ...       ...                  ...       ...   \n",
       "995        T00630      C0031      P093  2024-10-08 23:58:14         2   \n",
       "996        T00672      C0165      P044  2024-07-28 00:09:49         4   \n",
       "997        T00711      C0165      P044  2024-06-11 15:51:14         4   \n",
       "998        T00878      C0165      P044  2024-09-24 21:15:21         3   \n",
       "999        T00157      C0169      P044  2024-11-09 09:07:36         2   \n",
       "\n",
       "     TotalValue   Price     CustomerName         Region  SignupDate  \\\n",
       "0        300.68  300.68   Andrea Jenkins         Europe  2022-12-03   \n",
       "1        300.68  300.68  Brittany Harvey           Asia  2024-09-04   \n",
       "2        300.68  300.68  Kathryn Stevens         Europe  2024-04-04   \n",
       "3        601.36  300.68  Travis Campbell  South America  2024-04-11   \n",
       "4        902.04  300.68    Timothy Perez         Europe  2022-03-15   \n",
       "..          ...     ...              ...            ...         ...   \n",
       "995      609.88  304.94      Tina Miller  South America  2024-04-11   \n",
       "996       75.28   18.82    Juan Mcdaniel  South America  2022-04-09   \n",
       "997       75.28   18.82    Juan Mcdaniel  South America  2022-04-09   \n",
       "998       56.46   18.82    Juan Mcdaniel  South America  2022-04-09   \n",
       "999       37.64   18.82    Jennifer Shaw  South America  2023-04-13   \n",
       "\n",
       "                         ProductName     Category  \n",
       "0    ComfortLiving Bluetooth Speaker  Electronics  \n",
       "1    ComfortLiving Bluetooth Speaker  Electronics  \n",
       "2    ComfortLiving Bluetooth Speaker  Electronics  \n",
       "3    ComfortLiving Bluetooth Speaker  Electronics  \n",
       "4    ComfortLiving Bluetooth Speaker  Electronics  \n",
       "..                               ...          ...  \n",
       "995                     TechPro Vase   Home Decor  \n",
       "996         ActiveWear Running Shoes     Clothing  \n",
       "997         ActiveWear Running Shoes     Clothing  \n",
       "998         ActiveWear Running Shoes     Clothing  \n",
       "999         ActiveWear Running Shoes     Clothing  \n",
       "\n",
       "[1000 rows x 12 columns]"
      ]
     },
     "execution_count": 39,
     "metadata": {},
     "output_type": "execute_result"
    }
   ],
   "source": [
    "c_t_p_merg"
   ]
  },
  {
   "cell_type": "code",
   "execution_count": 40,
   "id": "8af6cb56-9d4a-43e6-bd3d-b785aa2320cd",
   "metadata": {},
   "outputs": [
    {
     "data": {
      "text/html": [
       "<div>\n",
       "<style scoped>\n",
       "    .dataframe tbody tr th:only-of-type {\n",
       "        vertical-align: middle;\n",
       "    }\n",
       "\n",
       "    .dataframe tbody tr th {\n",
       "        vertical-align: top;\n",
       "    }\n",
       "\n",
       "    .dataframe thead th {\n",
       "        text-align: right;\n",
       "    }\n",
       "</style>\n",
       "<table border=\"1\" class=\"dataframe\">\n",
       "  <thead>\n",
       "    <tr style=\"text-align: right;\">\n",
       "      <th></th>\n",
       "      <th>sum</th>\n",
       "      <th>mean</th>\n",
       "      <th>min</th>\n",
       "      <th>max</th>\n",
       "    </tr>\n",
       "    <tr>\n",
       "      <th>Region</th>\n",
       "      <th></th>\n",
       "      <th></th>\n",
       "      <th></th>\n",
       "      <th></th>\n",
       "    </tr>\n",
       "  </thead>\n",
       "  <tbody>\n",
       "    <tr>\n",
       "      <th>Asia</th>\n",
       "      <td>59140.03</td>\n",
       "      <td>271.284541</td>\n",
       "      <td>26.26</td>\n",
       "      <td>497.76</td>\n",
       "    </tr>\n",
       "    <tr>\n",
       "      <th>Europe</th>\n",
       "      <td>64483.15</td>\n",
       "      <td>275.569017</td>\n",
       "      <td>26.26</td>\n",
       "      <td>497.76</td>\n",
       "    </tr>\n",
       "    <tr>\n",
       "      <th>North America</th>\n",
       "      <td>64719.07</td>\n",
       "      <td>265.242090</td>\n",
       "      <td>16.08</td>\n",
       "      <td>497.76</td>\n",
       "    </tr>\n",
       "    <tr>\n",
       "      <th>South America</th>\n",
       "      <td>84211.82</td>\n",
       "      <td>277.012566</td>\n",
       "      <td>16.08</td>\n",
       "      <td>497.76</td>\n",
       "    </tr>\n",
       "  </tbody>\n",
       "</table>\n",
       "</div>"
      ],
      "text/plain": [
       "                    sum        mean    min     max\n",
       "Region                                            \n",
       "Asia           59140.03  271.284541  26.26  497.76\n",
       "Europe         64483.15  275.569017  26.26  497.76\n",
       "North America  64719.07  265.242090  16.08  497.76\n",
       "South America  84211.82  277.012566  16.08  497.76"
      ]
     },
     "execution_count": 40,
     "metadata": {},
     "output_type": "execute_result"
    }
   ],
   "source": [
    "regional_sale = c_t_p_merge.groupby(\"Region\")[\"Price\"].agg([\"sum\", \"mean\", \"min\", \"max\"])\n",
    "regional_sale"
   ]
  },
  {
   "cell_type": "code",
   "execution_count": 46,
   "id": "401c4b9e-ea18-44b2-8597-c6aef2b6327f",
   "metadata": {},
   "outputs": [
    {
     "data": {
      "text/plain": [
       "['South America', 'North America', 'Europe', 'Asia']"
      ]
     },
     "execution_count": 46,
     "metadata": {},
     "output_type": "execute_result"
    }
   ],
   "source": [
    "highest_sale_region = regional_sale.sort_values(by=\"sum\", ascending=False).index.to_list()\n",
    "highest_sale_region"
   ]
  },
  {
   "cell_type": "code",
   "execution_count": 120,
   "id": "c8677493-c55f-484f-9019-60dab47673b3",
   "metadata": {},
   "outputs": [
    {
     "data": {
      "text/html": [
       "<div>\n",
       "<style scoped>\n",
       "    .dataframe tbody tr th:only-of-type {\n",
       "        vertical-align: middle;\n",
       "    }\n",
       "\n",
       "    .dataframe tbody tr th {\n",
       "        vertical-align: top;\n",
       "    }\n",
       "\n",
       "    .dataframe thead th {\n",
       "        text-align: right;\n",
       "    }\n",
       "</style>\n",
       "<table border=\"1\" class=\"dataframe\">\n",
       "  <thead>\n",
       "    <tr style=\"text-align: right;\">\n",
       "      <th></th>\n",
       "      <th>Region</th>\n",
       "      <th>ProductID</th>\n",
       "      <th>ProductName</th>\n",
       "      <th>TotalSales</th>\n",
       "    </tr>\n",
       "  </thead>\n",
       "  <tbody>\n",
       "    <tr>\n",
       "      <th>68</th>\n",
       "      <td>Asia</td>\n",
       "      <td>P076</td>\n",
       "      <td>ActiveWear Jeans</td>\n",
       "      <td>2146.45</td>\n",
       "    </tr>\n",
       "    <tr>\n",
       "      <th>152</th>\n",
       "      <td>Europe</td>\n",
       "      <td>P079</td>\n",
       "      <td>ActiveWear Rug</td>\n",
       "      <td>2086.85</td>\n",
       "    </tr>\n",
       "    <tr>\n",
       "      <th>249</th>\n",
       "      <td>North America</td>\n",
       "      <td>P083</td>\n",
       "      <td>ActiveWear Smartwatch</td>\n",
       "      <td>2734.32</td>\n",
       "    </tr>\n",
       "    <tr>\n",
       "      <th>292</th>\n",
       "      <td>South America</td>\n",
       "      <td>P029</td>\n",
       "      <td>TechPro Headphones</td>\n",
       "      <td>3469.12</td>\n",
       "    </tr>\n",
       "  </tbody>\n",
       "</table>\n",
       "</div>"
      ],
      "text/plain": [
       "            Region ProductID            ProductName  TotalSales\n",
       "68            Asia      P076       ActiveWear Jeans     2146.45\n",
       "152         Europe      P079         ActiveWear Rug     2086.85\n",
       "249  North America      P083  ActiveWear Smartwatch     2734.32\n",
       "292  South America      P029     TechPro Headphones     3469.12"
      ]
     },
     "execution_count": 120,
     "metadata": {},
     "output_type": "execute_result"
    }
   ],
   "source": [
    "product_sales_by_region = c_t_p_merge.groupby([\"Region\", \"ProductID\", \"ProductName\"])[\"Price\"].sum().reset_index(name=\"TotalSales\")\n",
    "top_products_by_region = product_sales_by_region.loc[product_sales_by_region.groupby(\"Region\")[\"TotalSales\"].idxmax()]\n",
    "top_products_by_region"
   ]
  },
  {
   "cell_type": "code",
   "execution_count": 51,
   "id": "9d92e666-e473-4f78-b541-2d2e37731552",
   "metadata": {},
   "outputs": [],
   "source": [
    "category_sales_by_region = c_t_p_merge.groupby([\"Region\", \"Category\"])[\"Price\"].sum().reset_index(name=\"TotalSales\")"
   ]
  },
  {
   "cell_type": "code",
   "execution_count": 121,
   "id": "6f859c28-528d-4206-a400-543d3fd8114c",
   "metadata": {},
   "outputs": [
    {
     "data": {
      "text/html": [
       "<div>\n",
       "<style scoped>\n",
       "    .dataframe tbody tr th:only-of-type {\n",
       "        vertical-align: middle;\n",
       "    }\n",
       "\n",
       "    .dataframe tbody tr th {\n",
       "        vertical-align: top;\n",
       "    }\n",
       "\n",
       "    .dataframe thead th {\n",
       "        text-align: right;\n",
       "    }\n",
       "</style>\n",
       "<table border=\"1\" class=\"dataframe\">\n",
       "  <thead>\n",
       "    <tr style=\"text-align: right;\">\n",
       "      <th></th>\n",
       "      <th>Region</th>\n",
       "      <th>Category</th>\n",
       "      <th>TotalSales</th>\n",
       "    </tr>\n",
       "  </thead>\n",
       "  <tbody>\n",
       "    <tr>\n",
       "      <th>1</th>\n",
       "      <td>Asia</td>\n",
       "      <td>Clothing</td>\n",
       "      <td>17200.90</td>\n",
       "    </tr>\n",
       "    <tr>\n",
       "      <th>4</th>\n",
       "      <td>Europe</td>\n",
       "      <td>Books</td>\n",
       "      <td>18557.69</td>\n",
       "    </tr>\n",
       "    <tr>\n",
       "      <th>8</th>\n",
       "      <td>North America</td>\n",
       "      <td>Books</td>\n",
       "      <td>18135.24</td>\n",
       "    </tr>\n",
       "    <tr>\n",
       "      <th>12</th>\n",
       "      <td>South America</td>\n",
       "      <td>Books</td>\n",
       "      <td>25409.46</td>\n",
       "    </tr>\n",
       "  </tbody>\n",
       "</table>\n",
       "</div>"
      ],
      "text/plain": [
       "           Region  Category  TotalSales\n",
       "1            Asia  Clothing    17200.90\n",
       "4          Europe     Books    18557.69\n",
       "8   North America     Books    18135.24\n",
       "12  South America     Books    25409.46"
      ]
     },
     "execution_count": 121,
     "metadata": {},
     "output_type": "execute_result"
    }
   ],
   "source": [
    "top_categories_by_region = category_sales_by_region.loc[category_sales_by_region.groupby(\"Region\")[\"TotalSales\"].idxmax()]\n",
    "top_categories_by_region"
   ]
  },
  {
   "cell_type": "code",
   "execution_count": 56,
   "id": "7d8a5e65-ca8d-4d8f-91cc-3ea428cbba4d",
   "metadata": {},
   "outputs": [],
   "source": [
    "c_t_p_merge['TransactionDate'] = pd.to_datetime(c_t_p_merge['TransactionDate']) \n",
    "\n",
    "c_t_p_merge['TransactionMonth'] = c_t_p_merge['TransactionDate'].dt.month\n",
    "monthly_product_sales = c_t_p_merge.groupby([\"ProductID\", \"ProductName\", \"TransactionMonth\"])[\"Price\"].sum().reset_index(name=\"MonthlySales\")"
   ]
  },
  {
   "cell_type": "code",
   "execution_count": 57,
   "id": "27ae4fe6-a781-428e-9463-8a2cabb39bd0",
   "metadata": {},
   "outputs": [
    {
     "data": {
      "text/html": [
       "<div>\n",
       "<style scoped>\n",
       "    .dataframe tbody tr th:only-of-type {\n",
       "        vertical-align: middle;\n",
       "    }\n",
       "\n",
       "    .dataframe tbody tr th {\n",
       "        vertical-align: top;\n",
       "    }\n",
       "\n",
       "    .dataframe thead th {\n",
       "        text-align: right;\n",
       "    }\n",
       "</style>\n",
       "<table border=\"1\" class=\"dataframe\">\n",
       "  <thead>\n",
       "    <tr style=\"text-align: right;\">\n",
       "      <th></th>\n",
       "      <th>ProductID</th>\n",
       "      <th>ProductName</th>\n",
       "      <th>TransactionMonth</th>\n",
       "      <th>MonthlySales</th>\n",
       "    </tr>\n",
       "  </thead>\n",
       "  <tbody>\n",
       "    <tr>\n",
       "      <th>0</th>\n",
       "      <td>P001</td>\n",
       "      <td>ActiveWear Biography</td>\n",
       "      <td>1</td>\n",
       "      <td>169.30</td>\n",
       "    </tr>\n",
       "    <tr>\n",
       "      <th>1</th>\n",
       "      <td>P001</td>\n",
       "      <td>ActiveWear Biography</td>\n",
       "      <td>5</td>\n",
       "      <td>338.60</td>\n",
       "    </tr>\n",
       "    <tr>\n",
       "      <th>2</th>\n",
       "      <td>P001</td>\n",
       "      <td>ActiveWear Biography</td>\n",
       "      <td>6</td>\n",
       "      <td>169.30</td>\n",
       "    </tr>\n",
       "    <tr>\n",
       "      <th>3</th>\n",
       "      <td>P001</td>\n",
       "      <td>ActiveWear Biography</td>\n",
       "      <td>8</td>\n",
       "      <td>338.60</td>\n",
       "    </tr>\n",
       "    <tr>\n",
       "      <th>4</th>\n",
       "      <td>P001</td>\n",
       "      <td>ActiveWear Biography</td>\n",
       "      <td>9</td>\n",
       "      <td>169.30</td>\n",
       "    </tr>\n",
       "    <tr>\n",
       "      <th>...</th>\n",
       "      <td>...</td>\n",
       "      <td>...</td>\n",
       "      <td>...</td>\n",
       "      <td>...</td>\n",
       "    </tr>\n",
       "    <tr>\n",
       "      <th>681</th>\n",
       "      <td>P099</td>\n",
       "      <td>SoundWave Mystery Book</td>\n",
       "      <td>8</td>\n",
       "      <td>354.29</td>\n",
       "    </tr>\n",
       "    <tr>\n",
       "      <th>682</th>\n",
       "      <td>P100</td>\n",
       "      <td>HomeSense Sweater</td>\n",
       "      <td>3</td>\n",
       "      <td>252.68</td>\n",
       "    </tr>\n",
       "    <tr>\n",
       "      <th>683</th>\n",
       "      <td>P100</td>\n",
       "      <td>HomeSense Sweater</td>\n",
       "      <td>4</td>\n",
       "      <td>126.34</td>\n",
       "    </tr>\n",
       "    <tr>\n",
       "      <th>684</th>\n",
       "      <td>P100</td>\n",
       "      <td>HomeSense Sweater</td>\n",
       "      <td>7</td>\n",
       "      <td>252.68</td>\n",
       "    </tr>\n",
       "    <tr>\n",
       "      <th>685</th>\n",
       "      <td>P100</td>\n",
       "      <td>HomeSense Sweater</td>\n",
       "      <td>8</td>\n",
       "      <td>126.34</td>\n",
       "    </tr>\n",
       "  </tbody>\n",
       "</table>\n",
       "<p>686 rows × 4 columns</p>\n",
       "</div>"
      ],
      "text/plain": [
       "    ProductID             ProductName  TransactionMonth  MonthlySales\n",
       "0        P001    ActiveWear Biography                 1        169.30\n",
       "1        P001    ActiveWear Biography                 5        338.60\n",
       "2        P001    ActiveWear Biography                 6        169.30\n",
       "3        P001    ActiveWear Biography                 8        338.60\n",
       "4        P001    ActiveWear Biography                 9        169.30\n",
       "..        ...                     ...               ...           ...\n",
       "681      P099  SoundWave Mystery Book                 8        354.29\n",
       "682      P100       HomeSense Sweater                 3        252.68\n",
       "683      P100       HomeSense Sweater                 4        126.34\n",
       "684      P100       HomeSense Sweater                 7        252.68\n",
       "685      P100       HomeSense Sweater                 8        126.34\n",
       "\n",
       "[686 rows x 4 columns]"
      ]
     },
     "execution_count": 57,
     "metadata": {},
     "output_type": "execute_result"
    }
   ],
   "source": [
    "monthly_product_sales"
   ]
  },
  {
   "cell_type": "code",
   "execution_count": 117,
   "id": "c0d3eeed-b0c0-4df4-b2ba-c48ff6e710a2",
   "metadata": {},
   "outputs": [],
   "source": [
    "customer_transactions = c_t_p_merge.groupby('CustomerID')['TransactionID'].nunique().reset_index()\n",
    "customer_transactions.columns = ['CustomerID', 'TransactionCount']"
   ]
  },
  {
   "cell_type": "code",
   "execution_count": 118,
   "id": "15e5f449-4139-4291-ae12-1d1d9f2e38fa",
   "metadata": {},
   "outputs": [],
   "source": [
    "customer_transactions['CustomerType'] = customer_transactions['TransactionCount'].apply(lambda x: 'Returning' if x > 1 else 'New')"
   ]
  },
  {
   "cell_type": "code",
   "execution_count": 119,
   "id": "eb9a42e8-52f2-4d9f-bd4f-6211b003d2cf",
   "metadata": {},
   "outputs": [
    {
     "data": {
      "text/plain": [
       "CustomerType\n",
       "Returning    187\n",
       "New           12\n",
       "Name: count, dtype: int64"
      ]
     },
     "execution_count": 119,
     "metadata": {},
     "output_type": "execute_result"
    }
   ],
   "source": [
    "customer_type_counts = customer_transactions['CustomerType'].value_counts()\n",
    "customer_type_counts"
   ]
  },
  {
   "cell_type": "code",
   "execution_count": 115,
   "id": "0c3d5317-d4c1-4369-9cde-ed039ad2c802",
   "metadata": {},
   "outputs": [
    {
     "data": {
      "text/html": [
       "<div>\n",
       "<style scoped>\n",
       "    .dataframe tbody tr th:only-of-type {\n",
       "        vertical-align: middle;\n",
       "    }\n",
       "\n",
       "    .dataframe tbody tr th {\n",
       "        vertical-align: top;\n",
       "    }\n",
       "\n",
       "    .dataframe thead th {\n",
       "        text-align: right;\n",
       "    }\n",
       "</style>\n",
       "<table border=\"1\" class=\"dataframe\">\n",
       "  <thead>\n",
       "    <tr style=\"text-align: right;\">\n",
       "      <th></th>\n",
       "      <th>Category</th>\n",
       "      <th>TotalValue</th>\n",
       "    </tr>\n",
       "  </thead>\n",
       "  <tbody>\n",
       "    <tr>\n",
       "      <th>0</th>\n",
       "      <td>Books</td>\n",
       "      <td>192147.47</td>\n",
       "    </tr>\n",
       "    <tr>\n",
       "      <th>2</th>\n",
       "      <td>Electronics</td>\n",
       "      <td>180783.50</td>\n",
       "    </tr>\n",
       "    <tr>\n",
       "      <th>1</th>\n",
       "      <td>Clothing</td>\n",
       "      <td>166170.66</td>\n",
       "    </tr>\n",
       "    <tr>\n",
       "      <th>3</th>\n",
       "      <td>Home Decor</td>\n",
       "      <td>150893.93</td>\n",
       "    </tr>\n",
       "  </tbody>\n",
       "</table>\n",
       "</div>"
      ],
      "text/plain": [
       "      Category  TotalValue\n",
       "0        Books   192147.47\n",
       "2  Electronics   180783.50\n",
       "1     Clothing   166170.66\n",
       "3   Home Decor   150893.93"
      ]
     },
     "execution_count": 115,
     "metadata": {},
     "output_type": "execute_result"
    }
   ],
   "source": [
    "category_sales = c_t_p_merge.groupby('Category')['TotalValue'].sum().reset_index()\n",
    "category_sales = category_sales.sort_values(by='TotalValue', ascending=False)\n",
    "category_sales"
   ]
  },
  {
   "cell_type": "code",
   "execution_count": 116,
   "id": "9edd1b18-c6ff-46b1-9051-f7512a9bf1d5",
   "metadata": {},
   "outputs": [
    {
     "data": {
      "text/html": [
       "<div>\n",
       "<style scoped>\n",
       "    .dataframe tbody tr th:only-of-type {\n",
       "        vertical-align: middle;\n",
       "    }\n",
       "\n",
       "    .dataframe tbody tr th {\n",
       "        vertical-align: top;\n",
       "    }\n",
       "\n",
       "    .dataframe thead th {\n",
       "        text-align: right;\n",
       "    }\n",
       "</style>\n",
       "<table border=\"1\" class=\"dataframe\">\n",
       "  <thead>\n",
       "    <tr style=\"text-align: right;\">\n",
       "      <th></th>\n",
       "      <th>Region</th>\n",
       "      <th>average_order_value</th>\n",
       "    </tr>\n",
       "  </thead>\n",
       "  <tbody>\n",
       "    <tr>\n",
       "      <th>0</th>\n",
       "      <td>Asia</td>\n",
       "      <td>697.591606</td>\n",
       "    </tr>\n",
       "    <tr>\n",
       "      <th>1</th>\n",
       "      <td>Europe</td>\n",
       "      <td>710.489872</td>\n",
       "    </tr>\n",
       "    <tr>\n",
       "      <th>2</th>\n",
       "      <td>North America</td>\n",
       "      <td>624.235246</td>\n",
       "    </tr>\n",
       "    <tr>\n",
       "      <th>3</th>\n",
       "      <td>South America</td>\n",
       "      <td>721.554474</td>\n",
       "    </tr>\n",
       "  </tbody>\n",
       "</table>\n",
       "</div>"
      ],
      "text/plain": [
       "          Region  average_order_value\n",
       "0           Asia           697.591606\n",
       "1         Europe           710.489872\n",
       "2  North America           624.235246\n",
       "3  South America           721.554474"
      ]
     },
     "execution_count": 116,
     "metadata": {},
     "output_type": "execute_result"
    }
   ],
   "source": [
    "region_aov = c_t_p_merge.groupby('Region').apply(lambda x: x['TotalValue'].sum() / x['TransactionID'].nunique()).reset_index()\n",
    "region_aov.columns = ['Region', 'average_order_value']\n",
    "region_aov"
   ]
  },
  {
   "cell_type": "code",
   "execution_count": 103,
   "id": "d7bd3aeb-b060-4b39-93c2-cb9e56423cf4",
   "metadata": {},
   "outputs": [],
   "source": [
    "customer_spending = c_t_p_merge.groupby(['CustomerID', 'Region'])['TotalValue'].sum().reset_index()\n",
    "customer_spending.columns = ['CustomerID', 'Region', 'TotalSpend']"
   ]
  },
  {
   "cell_type": "code",
   "execution_count": 105,
   "id": "62c5e9b2-214d-4d8d-9d27-dd0516beda41",
   "metadata": {},
   "outputs": [],
   "source": [
    "max_spend = customer_spending['TotalSpend'].max()\n",
    "min_spend = customer_spending['TotalSpend'].min()\n",
    "high_value_threshold = 0.50 * max_spend\n",
    "low_value_threshold = min_spend + 0.10 * min_spend"
   ]
  },
  {
   "cell_type": "code",
   "execution_count": 106,
   "id": "6207daed-a273-49d6-8a04-54c00596c35f",
   "metadata": {},
   "outputs": [],
   "source": [
    "def categorize_customer(spend):\n",
    "    if spend > high_value_threshold:\n",
    "        return 'High-Value'\n",
    "    elif spend <= low_value_threshold:\n",
    "        return 'Low-Value'\n",
    "    else:\n",
    "        return 'Mid-Value'"
   ]
  },
  {
   "cell_type": "code",
   "execution_count": 107,
   "id": "7f9ca2ed-cce3-4163-8cea-bf41ff0cd01b",
   "metadata": {},
   "outputs": [],
   "source": [
    "customer_spending['CustomerType'] = customer_spending['TotalSpend'].apply(categorize_customer)"
   ]
  },
  {
   "cell_type": "code",
   "execution_count": 108,
   "id": "4c035526-9d01-4e81-a456-8cc629afae36",
   "metadata": {},
   "outputs": [],
   "source": [
    "regional_customer_counts = customer_spending.groupby(['Region', 'CustomerType']).size().reset_index(name='Count')"
   ]
  },
  {
   "cell_type": "code",
   "execution_count": 109,
   "id": "1419c356-3b7e-4bc9-a543-aa293cfa1b4e",
   "metadata": {},
   "outputs": [
    {
     "data": {
      "text/html": [
       "<div>\n",
       "<style scoped>\n",
       "    .dataframe tbody tr th:only-of-type {\n",
       "        vertical-align: middle;\n",
       "    }\n",
       "\n",
       "    .dataframe tbody tr th {\n",
       "        vertical-align: top;\n",
       "    }\n",
       "\n",
       "    .dataframe thead th {\n",
       "        text-align: right;\n",
       "    }\n",
       "</style>\n",
       "<table border=\"1\" class=\"dataframe\">\n",
       "  <thead>\n",
       "    <tr style=\"text-align: right;\">\n",
       "      <th></th>\n",
       "      <th>Region</th>\n",
       "      <th>CustomerType</th>\n",
       "      <th>Count</th>\n",
       "    </tr>\n",
       "  </thead>\n",
       "  <tbody>\n",
       "    <tr>\n",
       "      <th>0</th>\n",
       "      <td>Asia</td>\n",
       "      <td>High-Value</td>\n",
       "      <td>10</td>\n",
       "    </tr>\n",
       "    <tr>\n",
       "      <th>1</th>\n",
       "      <td>Asia</td>\n",
       "      <td>Mid-Value</td>\n",
       "      <td>34</td>\n",
       "    </tr>\n",
       "    <tr>\n",
       "      <th>2</th>\n",
       "      <td>Europe</td>\n",
       "      <td>High-Value</td>\n",
       "      <td>5</td>\n",
       "    </tr>\n",
       "    <tr>\n",
       "      <th>3</th>\n",
       "      <td>Europe</td>\n",
       "      <td>Low-Value</td>\n",
       "      <td>1</td>\n",
       "    </tr>\n",
       "    <tr>\n",
       "      <th>4</th>\n",
       "      <td>Europe</td>\n",
       "      <td>Mid-Value</td>\n",
       "      <td>44</td>\n",
       "    </tr>\n",
       "    <tr>\n",
       "      <th>5</th>\n",
       "      <td>North America</td>\n",
       "      <td>High-Value</td>\n",
       "      <td>6</td>\n",
       "    </tr>\n",
       "    <tr>\n",
       "      <th>6</th>\n",
       "      <td>North America</td>\n",
       "      <td>Mid-Value</td>\n",
       "      <td>40</td>\n",
       "    </tr>\n",
       "    <tr>\n",
       "      <th>7</th>\n",
       "      <td>South America</td>\n",
       "      <td>High-Value</td>\n",
       "      <td>13</td>\n",
       "    </tr>\n",
       "    <tr>\n",
       "      <th>8</th>\n",
       "      <td>South America</td>\n",
       "      <td>Mid-Value</td>\n",
       "      <td>46</td>\n",
       "    </tr>\n",
       "  </tbody>\n",
       "</table>\n",
       "</div>"
      ],
      "text/plain": [
       "          Region CustomerType  Count\n",
       "0           Asia   High-Value     10\n",
       "1           Asia    Mid-Value     34\n",
       "2         Europe   High-Value      5\n",
       "3         Europe    Low-Value      1\n",
       "4         Europe    Mid-Value     44\n",
       "5  North America   High-Value      6\n",
       "6  North America    Mid-Value     40\n",
       "7  South America   High-Value     13\n",
       "8  South America    Mid-Value     46"
      ]
     },
     "execution_count": 109,
     "metadata": {},
     "output_type": "execute_result"
    }
   ],
   "source": [
    "regional_customer_counts"
   ]
  },
  {
   "cell_type": "code",
   "execution_count": 110,
   "id": "4286d5b8-547a-4385-8eea-6c849cb8ef66",
   "metadata": {},
   "outputs": [],
   "source": [
    "regional_high_low_counts = regional_customer_counts[regional_customer_counts['CustomerType'].isin(['High-Value', 'Low-Value'])]"
   ]
  },
  {
   "cell_type": "code",
   "execution_count": 111,
   "id": "a199b734-ec0d-447b-aa94-d91220daba84",
   "metadata": {},
   "outputs": [
    {
     "data": {
      "text/html": [
       "<div>\n",
       "<style scoped>\n",
       "    .dataframe tbody tr th:only-of-type {\n",
       "        vertical-align: middle;\n",
       "    }\n",
       "\n",
       "    .dataframe tbody tr th {\n",
       "        vertical-align: top;\n",
       "    }\n",
       "\n",
       "    .dataframe thead th {\n",
       "        text-align: right;\n",
       "    }\n",
       "</style>\n",
       "<table border=\"1\" class=\"dataframe\">\n",
       "  <thead>\n",
       "    <tr style=\"text-align: right;\">\n",
       "      <th></th>\n",
       "      <th>Region</th>\n",
       "      <th>CustomerType</th>\n",
       "      <th>Count</th>\n",
       "    </tr>\n",
       "  </thead>\n",
       "  <tbody>\n",
       "    <tr>\n",
       "      <th>0</th>\n",
       "      <td>Asia</td>\n",
       "      <td>High-Value</td>\n",
       "      <td>10</td>\n",
       "    </tr>\n",
       "    <tr>\n",
       "      <th>2</th>\n",
       "      <td>Europe</td>\n",
       "      <td>High-Value</td>\n",
       "      <td>5</td>\n",
       "    </tr>\n",
       "    <tr>\n",
       "      <th>3</th>\n",
       "      <td>Europe</td>\n",
       "      <td>Low-Value</td>\n",
       "      <td>1</td>\n",
       "    </tr>\n",
       "    <tr>\n",
       "      <th>5</th>\n",
       "      <td>North America</td>\n",
       "      <td>High-Value</td>\n",
       "      <td>6</td>\n",
       "    </tr>\n",
       "    <tr>\n",
       "      <th>7</th>\n",
       "      <td>South America</td>\n",
       "      <td>High-Value</td>\n",
       "      <td>13</td>\n",
       "    </tr>\n",
       "  </tbody>\n",
       "</table>\n",
       "</div>"
      ],
      "text/plain": [
       "          Region CustomerType  Count\n",
       "0           Asia   High-Value     10\n",
       "2         Europe   High-Value      5\n",
       "3         Europe    Low-Value      1\n",
       "5  North America   High-Value      6\n",
       "7  South America   High-Value     13"
      ]
     },
     "execution_count": 111,
     "metadata": {},
     "output_type": "execute_result"
    }
   ],
   "source": [
    "regional_high_low_counts"
   ]
  }
 ],
 "metadata": {
  "kernelspec": {
   "display_name": "Python 3 (ipykernel)",
   "language": "python",
   "name": "python3"
  },
  "language_info": {
   "codemirror_mode": {
    "name": "ipython",
    "version": 3
   },
   "file_extension": ".py",
   "mimetype": "text/x-python",
   "name": "python",
   "nbconvert_exporter": "python",
   "pygments_lexer": "ipython3",
   "version": "3.8.17"
  }
 },
 "nbformat": 4,
 "nbformat_minor": 5
}
